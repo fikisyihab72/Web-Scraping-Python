{
 "cells": [
  {
   "cell_type": "code",
   "execution_count": 1,
   "metadata": {},
   "outputs": [],
   "source": [
    "from urllib.request import urlopen\n",
    "from bs4 import BeautifulSoup\n",
    "import pandas as pd"
   ]
  },
  {
   "cell_type": "code",
   "execution_count": 3,
   "metadata": {},
   "outputs": [],
   "source": [
    "url = \"https://myanimelist.net/\"\n",
    "html = urlopen(url)\n",
    "data = BeautifulSoup(html, 'html.parser')"
   ]
  },
  {
   "cell_type": "code",
   "execution_count": 5,
   "metadata": {},
   "outputs": [
    {
     "name": "stdout",
     "output_type": "stream",
     "text": [
      "Kingdom 3rd Season\n",
      "Yahari Ore no Seishun Love Comedy wa Machigatteiru. Kan\n",
      "Re:Zero kara Hajimeru Isekai Seikatsu 2nd Season\n",
      "One Piece\n",
      "Fruits Basket 2nd Season\n",
      "Kimetsu no Yaiba Movie: Mugen Ressha-hen\n",
      "Yakusoku no Neverland 2nd Season\n",
      "Shingeki no Kyojin: The Final Season\n",
      "Tensei shitara Slime Datta Ken 2nd Season\n",
      "Tate no Yuusha no Nariagari 2nd Season\n",
      "Death Note\n",
      "Shingeki no Kyojin\n",
      "Sword Art Online\n",
      "Fullmetal Alchemist: Brotherhood\n",
      "One Punch Man\n",
      "Tokyo Ghoul\n",
      "Boku no Hero Academia\n",
      "Steins;Gate\n",
      "No Game No Life\n",
      "Naruto\n"
     ]
    }
   ],
   "source": [
    "items = data.findAll(\"a\", {\"class\":\"title\"})\n",
    "for item in items:\n",
    "    print(item.get_text())"
   ]
  },
  {
   "cell_type": "code",
   "execution_count": 6,
   "metadata": {},
   "outputs": [],
   "source": [
    "data = []\n",
    "for item in items:\n",
    "    data.append(item.get_text())"
   ]
  },
  {
   "cell_type": "code",
   "execution_count": 8,
   "metadata": {},
   "outputs": [],
   "source": [
    "df = pd.DataFrame({'Judul':data})"
   ]
  },
  {
   "cell_type": "code",
   "execution_count": 10,
   "metadata": {},
   "outputs": [
    {
     "data": {
      "text/html": [
       "<div>\n",
       "<style scoped>\n",
       "    .dataframe tbody tr th:only-of-type {\n",
       "        vertical-align: middle;\n",
       "    }\n",
       "\n",
       "    .dataframe tbody tr th {\n",
       "        vertical-align: top;\n",
       "    }\n",
       "\n",
       "    .dataframe thead th {\n",
       "        text-align: right;\n",
       "    }\n",
       "</style>\n",
       "<table border=\"1\" class=\"dataframe\">\n",
       "  <thead>\n",
       "    <tr style=\"text-align: right;\">\n",
       "      <th></th>\n",
       "      <th>Judul</th>\n",
       "    </tr>\n",
       "  </thead>\n",
       "  <tbody>\n",
       "    <tr>\n",
       "      <th>0</th>\n",
       "      <td>Kingdom 3rd Season</td>\n",
       "    </tr>\n",
       "    <tr>\n",
       "      <th>1</th>\n",
       "      <td>Yahari Ore no Seishun Love Comedy wa Machigatt...</td>\n",
       "    </tr>\n",
       "    <tr>\n",
       "      <th>2</th>\n",
       "      <td>Re:Zero kara Hajimeru Isekai Seikatsu 2nd Season</td>\n",
       "    </tr>\n",
       "    <tr>\n",
       "      <th>3</th>\n",
       "      <td>One Piece</td>\n",
       "    </tr>\n",
       "    <tr>\n",
       "      <th>4</th>\n",
       "      <td>Fruits Basket 2nd Season</td>\n",
       "    </tr>\n",
       "    <tr>\n",
       "      <th>5</th>\n",
       "      <td>Kimetsu no Yaiba Movie: Mugen Ressha-hen</td>\n",
       "    </tr>\n",
       "    <tr>\n",
       "      <th>6</th>\n",
       "      <td>Yakusoku no Neverland 2nd Season</td>\n",
       "    </tr>\n",
       "    <tr>\n",
       "      <th>7</th>\n",
       "      <td>Shingeki no Kyojin: The Final Season</td>\n",
       "    </tr>\n",
       "    <tr>\n",
       "      <th>8</th>\n",
       "      <td>Tensei shitara Slime Datta Ken 2nd Season</td>\n",
       "    </tr>\n",
       "    <tr>\n",
       "      <th>9</th>\n",
       "      <td>Tate no Yuusha no Nariagari 2nd Season</td>\n",
       "    </tr>\n",
       "    <tr>\n",
       "      <th>10</th>\n",
       "      <td>Death Note</td>\n",
       "    </tr>\n",
       "    <tr>\n",
       "      <th>11</th>\n",
       "      <td>Shingeki no Kyojin</td>\n",
       "    </tr>\n",
       "    <tr>\n",
       "      <th>12</th>\n",
       "      <td>Sword Art Online</td>\n",
       "    </tr>\n",
       "    <tr>\n",
       "      <th>13</th>\n",
       "      <td>Fullmetal Alchemist: Brotherhood</td>\n",
       "    </tr>\n",
       "    <tr>\n",
       "      <th>14</th>\n",
       "      <td>One Punch Man</td>\n",
       "    </tr>\n",
       "    <tr>\n",
       "      <th>15</th>\n",
       "      <td>Tokyo Ghoul</td>\n",
       "    </tr>\n",
       "    <tr>\n",
       "      <th>16</th>\n",
       "      <td>Boku no Hero Academia</td>\n",
       "    </tr>\n",
       "    <tr>\n",
       "      <th>17</th>\n",
       "      <td>Steins;Gate</td>\n",
       "    </tr>\n",
       "    <tr>\n",
       "      <th>18</th>\n",
       "      <td>No Game No Life</td>\n",
       "    </tr>\n",
       "    <tr>\n",
       "      <th>19</th>\n",
       "      <td>Naruto</td>\n",
       "    </tr>\n",
       "  </tbody>\n",
       "</table>\n",
       "</div>"
      ],
      "text/plain": [
       "                                                Judul\n",
       "0                                  Kingdom 3rd Season\n",
       "1   Yahari Ore no Seishun Love Comedy wa Machigatt...\n",
       "2    Re:Zero kara Hajimeru Isekai Seikatsu 2nd Season\n",
       "3                                           One Piece\n",
       "4                            Fruits Basket 2nd Season\n",
       "5            Kimetsu no Yaiba Movie: Mugen Ressha-hen\n",
       "6                    Yakusoku no Neverland 2nd Season\n",
       "7                Shingeki no Kyojin: The Final Season\n",
       "8           Tensei shitara Slime Datta Ken 2nd Season\n",
       "9              Tate no Yuusha no Nariagari 2nd Season\n",
       "10                                         Death Note\n",
       "11                                 Shingeki no Kyojin\n",
       "12                                   Sword Art Online\n",
       "13                   Fullmetal Alchemist: Brotherhood\n",
       "14                                      One Punch Man\n",
       "15                                        Tokyo Ghoul\n",
       "16                              Boku no Hero Academia\n",
       "17                                        Steins;Gate\n",
       "18                                    No Game No Life\n",
       "19                                             Naruto"
      ]
     },
     "metadata": {},
     "output_type": "display_data"
    }
   ],
   "source": [
    "display(df)"
   ]
  },
  {
   "cell_type": "code",
   "execution_count": null,
   "metadata": {},
   "outputs": [],
   "source": []
  }
 ],
 "metadata": {
  "kernelspec": {
   "display_name": "Python 3",
   "language": "python",
   "name": "python3"
  },
  "language_info": {
   "codemirror_mode": {
    "name": "ipython",
    "version": 3
   },
   "file_extension": ".py",
   "mimetype": "text/x-python",
   "name": "python",
   "nbconvert_exporter": "python",
   "pygments_lexer": "ipython3",
   "version": "3.8.3"
  }
 },
 "nbformat": 4,
 "nbformat_minor": 4
}
